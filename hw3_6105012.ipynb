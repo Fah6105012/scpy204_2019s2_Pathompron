{
 "cells": [
  {
   "cell_type": "code",
   "execution_count": 2,
   "metadata": {},
   "outputs": [
    {
     "name": "stdout",
     "output_type": "stream",
     "text": [
      "Requirement already satisfied: pandas in c:\\testenv\\testenv\\lib\\site-packages (1.0.3)\n",
      "Requirement already satisfied: pytz>=2017.2 in c:\\testenv\\testenv\\lib\\site-packages (from pandas) (2019.3)\n",
      "Requirement already satisfied: numpy>=1.13.3 in c:\\testenv\\testenv\\lib\\site-packages (from pandas) (1.18.3)\n",
      "Requirement already satisfied: python-dateutil>=2.6.1 in c:\\testenv\\testenv\\lib\\site-packages (from pandas) (2.8.1)\n",
      "Requirement already satisfied: six>=1.5 in c:\\users\\fah\\appdata\\roaming\\python\\python37\\site-packages (from python-dateutil>=2.6.1->pandas) (1.13.0)\n",
      "Requirement already satisfied: numpy in c:\\testenv\\testenv\\lib\\site-packages (1.18.3)\n"
     ]
    }
   ],
   "source": [
    "!pip install pandas\n",
    "!pip install numpy"
   ]
  },
  {
   "cell_type": "code",
   "execution_count": 3,
   "metadata": {},
   "outputs": [],
   "source": [
    "import pandas as pd\n",
    "import numpy as np"
   ]
  },
  {
   "cell_type": "code",
   "execution_count": 4,
   "metadata": {},
   "outputs": [
    {
     "data": {
      "text/html": [
       "<div>\n",
       "<style scoped>\n",
       "    .dataframe tbody tr th:only-of-type {\n",
       "        vertical-align: middle;\n",
       "    }\n",
       "\n",
       "    .dataframe tbody tr th {\n",
       "        vertical-align: top;\n",
       "    }\n",
       "\n",
       "    .dataframe thead th {\n",
       "        text-align: right;\n",
       "    }\n",
       "</style>\n",
       "<table border=\"1\" class=\"dataframe\">\n",
       "  <thead>\n",
       "    <tr style=\"text-align: right;\">\n",
       "      <th></th>\n",
       "      <th>dateRep</th>\n",
       "      <th>day</th>\n",
       "      <th>month</th>\n",
       "      <th>year</th>\n",
       "      <th>cases</th>\n",
       "      <th>deaths</th>\n",
       "      <th>countriesAndTerritories</th>\n",
       "      <th>geoId</th>\n",
       "      <th>countryterritoryCode</th>\n",
       "      <th>popData2018</th>\n",
       "    </tr>\n",
       "  </thead>\n",
       "  <tbody>\n",
       "    <tr>\n",
       "      <th>0</th>\n",
       "      <td>12/4/2020</td>\n",
       "      <td>12</td>\n",
       "      <td>4</td>\n",
       "      <td>2020</td>\n",
       "      <td>34</td>\n",
       "      <td>3</td>\n",
       "      <td>Afghanistan</td>\n",
       "      <td>AF</td>\n",
       "      <td>AFG</td>\n",
       "      <td>37172386.0</td>\n",
       "    </tr>\n",
       "    <tr>\n",
       "      <th>1</th>\n",
       "      <td>11/4/2020</td>\n",
       "      <td>11</td>\n",
       "      <td>4</td>\n",
       "      <td>2020</td>\n",
       "      <td>37</td>\n",
       "      <td>0</td>\n",
       "      <td>Afghanistan</td>\n",
       "      <td>AF</td>\n",
       "      <td>AFG</td>\n",
       "      <td>37172386.0</td>\n",
       "    </tr>\n",
       "    <tr>\n",
       "      <th>2</th>\n",
       "      <td>10/4/2020</td>\n",
       "      <td>10</td>\n",
       "      <td>4</td>\n",
       "      <td>2020</td>\n",
       "      <td>61</td>\n",
       "      <td>1</td>\n",
       "      <td>Afghanistan</td>\n",
       "      <td>AF</td>\n",
       "      <td>AFG</td>\n",
       "      <td>37172386.0</td>\n",
       "    </tr>\n",
       "    <tr>\n",
       "      <th>3</th>\n",
       "      <td>9/4/2020</td>\n",
       "      <td>9</td>\n",
       "      <td>4</td>\n",
       "      <td>2020</td>\n",
       "      <td>56</td>\n",
       "      <td>3</td>\n",
       "      <td>Afghanistan</td>\n",
       "      <td>AF</td>\n",
       "      <td>AFG</td>\n",
       "      <td>37172386.0</td>\n",
       "    </tr>\n",
       "    <tr>\n",
       "      <th>4</th>\n",
       "      <td>8/4/2020</td>\n",
       "      <td>8</td>\n",
       "      <td>4</td>\n",
       "      <td>2020</td>\n",
       "      <td>30</td>\n",
       "      <td>4</td>\n",
       "      <td>Afghanistan</td>\n",
       "      <td>AF</td>\n",
       "      <td>AFG</td>\n",
       "      <td>37172386.0</td>\n",
       "    </tr>\n",
       "    <tr>\n",
       "      <th>...</th>\n",
       "      <td>...</td>\n",
       "      <td>...</td>\n",
       "      <td>...</td>\n",
       "      <td>...</td>\n",
       "      <td>...</td>\n",
       "      <td>...</td>\n",
       "      <td>...</td>\n",
       "      <td>...</td>\n",
       "      <td>...</td>\n",
       "      <td>...</td>\n",
       "    </tr>\n",
       "    <tr>\n",
       "      <th>10327</th>\n",
       "      <td>25/03/2020</td>\n",
       "      <td>25</td>\n",
       "      <td>3</td>\n",
       "      <td>2020</td>\n",
       "      <td>0</td>\n",
       "      <td>0</td>\n",
       "      <td>Zimbabwe</td>\n",
       "      <td>ZW</td>\n",
       "      <td>ZWE</td>\n",
       "      <td>14439018.0</td>\n",
       "    </tr>\n",
       "    <tr>\n",
       "      <th>10328</th>\n",
       "      <td>24/03/2020</td>\n",
       "      <td>24</td>\n",
       "      <td>3</td>\n",
       "      <td>2020</td>\n",
       "      <td>0</td>\n",
       "      <td>1</td>\n",
       "      <td>Zimbabwe</td>\n",
       "      <td>ZW</td>\n",
       "      <td>ZWE</td>\n",
       "      <td>14439018.0</td>\n",
       "    </tr>\n",
       "    <tr>\n",
       "      <th>10329</th>\n",
       "      <td>23/03/2020</td>\n",
       "      <td>23</td>\n",
       "      <td>3</td>\n",
       "      <td>2020</td>\n",
       "      <td>0</td>\n",
       "      <td>0</td>\n",
       "      <td>Zimbabwe</td>\n",
       "      <td>ZW</td>\n",
       "      <td>ZWE</td>\n",
       "      <td>14439018.0</td>\n",
       "    </tr>\n",
       "    <tr>\n",
       "      <th>10330</th>\n",
       "      <td>22/03/2020</td>\n",
       "      <td>22</td>\n",
       "      <td>3</td>\n",
       "      <td>2020</td>\n",
       "      <td>1</td>\n",
       "      <td>0</td>\n",
       "      <td>Zimbabwe</td>\n",
       "      <td>ZW</td>\n",
       "      <td>ZWE</td>\n",
       "      <td>14439018.0</td>\n",
       "    </tr>\n",
       "    <tr>\n",
       "      <th>10331</th>\n",
       "      <td>21/03/2020</td>\n",
       "      <td>21</td>\n",
       "      <td>3</td>\n",
       "      <td>2020</td>\n",
       "      <td>1</td>\n",
       "      <td>0</td>\n",
       "      <td>Zimbabwe</td>\n",
       "      <td>ZW</td>\n",
       "      <td>ZWE</td>\n",
       "      <td>14439018.0</td>\n",
       "    </tr>\n",
       "  </tbody>\n",
       "</table>\n",
       "<p>10332 rows × 10 columns</p>\n",
       "</div>"
      ],
      "text/plain": [
       "          dateRep  day  month  year  cases  deaths countriesAndTerritories  \\\n",
       "0       12/4/2020   12      4  2020     34       3             Afghanistan   \n",
       "1       11/4/2020   11      4  2020     37       0             Afghanistan   \n",
       "2       10/4/2020   10      4  2020     61       1             Afghanistan   \n",
       "3        9/4/2020    9      4  2020     56       3             Afghanistan   \n",
       "4        8/4/2020    8      4  2020     30       4             Afghanistan   \n",
       "...           ...  ...    ...   ...    ...     ...                     ...   \n",
       "10327  25/03/2020   25      3  2020      0       0                Zimbabwe   \n",
       "10328  24/03/2020   24      3  2020      0       1                Zimbabwe   \n",
       "10329  23/03/2020   23      3  2020      0       0                Zimbabwe   \n",
       "10330  22/03/2020   22      3  2020      1       0                Zimbabwe   \n",
       "10331  21/03/2020   21      3  2020      1       0                Zimbabwe   \n",
       "\n",
       "      geoId countryterritoryCode  popData2018  \n",
       "0        AF                  AFG   37172386.0  \n",
       "1        AF                  AFG   37172386.0  \n",
       "2        AF                  AFG   37172386.0  \n",
       "3        AF                  AFG   37172386.0  \n",
       "4        AF                  AFG   37172386.0  \n",
       "...     ...                  ...          ...  \n",
       "10327    ZW                  ZWE   14439018.0  \n",
       "10328    ZW                  ZWE   14439018.0  \n",
       "10329    ZW                  ZWE   14439018.0  \n",
       "10330    ZW                  ZWE   14439018.0  \n",
       "10331    ZW                  ZWE   14439018.0  \n",
       "\n",
       "[10332 rows x 10 columns]"
      ]
     },
     "execution_count": 4,
     "metadata": {},
     "output_type": "execute_result"
    }
   ],
   "source": [
    "df = pd.read_csv('COVID_19.csv', delimiter=',')\n",
    "df"
   ]
  },
  {
   "cell_type": "code",
   "execution_count": 5,
   "metadata": {},
   "outputs": [
    {
     "name": "stdout",
     "output_type": "stream",
     "text": [
      "Infected Patients in Thialand =  2551 people\n"
     ]
    }
   ],
   "source": [
    "c = df.loc[df['countriesAndTerritories'] == 'Thailand', 'cases'].sum()\n",
    "d = df.loc[df['countriesAndTerritories'] == 'Thailand', 'deaths'].sum()\n",
    "p = 69428524\n",
    "print (\"Infected Patients in Thialand = \",c,\"people\")"
   ]
  },
  {
   "cell_type": "code",
   "execution_count": 6,
   "metadata": {},
   "outputs": [
    {
     "name": "stdout",
     "output_type": "stream",
     "text": [
      "%deaths/cases=  1.4896119168953352 %\n"
     ]
    }
   ],
   "source": [
    "a = (d / c * 100)\n",
    "print (\"%deaths/cases= \",a,\"%\")"
   ]
  },
  {
   "cell_type": "code",
   "execution_count": 7,
   "metadata": {},
   "outputs": [
    {
     "name": "stdout",
     "output_type": "stream",
     "text": [
      "%cases/population=  0.003674282345394524 %\n"
     ]
    }
   ],
   "source": [
    "b = (c / p * 100)\n",
    "print (\"%cases/population= \",b,\"%\")"
   ]
  },
  {
   "cell_type": "code",
   "execution_count": 8,
   "metadata": {},
   "outputs": [
    {
     "name": "stdout",
     "output_type": "stream",
     "text": [
      "Requirement already satisfied: matplotlib in c:\\testenv\\testenv\\lib\\site-packages (3.2.1)\n",
      "Requirement already satisfied: numpy>=1.11 in c:\\testenv\\testenv\\lib\\site-packages (from matplotlib) (1.18.3)\n",
      "Requirement already satisfied: python-dateutil>=2.1 in c:\\testenv\\testenv\\lib\\site-packages (from matplotlib) (2.8.1)\n",
      "Requirement already satisfied: kiwisolver>=1.0.1 in c:\\testenv\\testenv\\lib\\site-packages (from matplotlib) (1.2.0)\n",
      "Requirement already satisfied: pyparsing!=2.0.4,!=2.1.2,!=2.1.6,>=2.0.1 in c:\\testenv\\testenv\\lib\\site-packages (from matplotlib) (2.4.7)\n",
      "Requirement already satisfied: cycler>=0.10 in c:\\testenv\\testenv\\lib\\site-packages (from matplotlib) (0.10.0)\n",
      "Requirement already satisfied: six>=1.5 in c:\\users\\fah\\appdata\\roaming\\python\\python37\\site-packages (from python-dateutil>=2.1->matplotlib) (1.13.0)\n"
     ]
    }
   ],
   "source": [
    "!pip install matplotlib"
   ]
  },
  {
   "cell_type": "code",
   "execution_count": 9,
   "metadata": {},
   "outputs": [],
   "source": [
    "import matplotlib.pyplot as plt"
   ]
  },
  {
   "cell_type": "code",
   "execution_count": 15,
   "metadata": {},
   "outputs": [
    {
     "data": {
      "image/png": "[encoded data removed]",
      "text/plain": [
       "<Figure size 432x288 with 1 Axes>"
      ]
     },
     "metadata": {
      "needs_background": "light"
     },
     "output_type": "display_data"
    }
   ],
   "source": [
    "fig, axs = plt.subplots()\n",
    "df['s'] = df.cases.iloc[820:840][::-1].cumsum()[::-1]\n",
    "df['s2'] = df.cases.iloc[8711:8731][::-1].cumsum()[::-1]\n",
    "df['s3'] = df.cases.iloc[4478:4498][::-1].cumsum()[::-1]\n",
    "df['s4'] = df.cases.iloc[2254:2274][::-1].cumsum()[::-1]\n",
    "df['s5'] = df.cases.iloc[7642:7662][::-1].cumsum()[::-1]\n",
    "df['s6'] = df.cases.iloc[6837:6857][::-1].cumsum()[::-1]\n",
    "df['s7'] = df.cases.iloc[4678:4698][::-1].cumsum()[::-1]\n",
    "df['s8'] = df.cases.iloc[3091:3111][::-1].cumsum()[::-1]\n",
    "df['s9'] = df.cases.iloc[4270:4290][::-1].cumsum()[::-1]\n",
    "df['s10'] = df.cases.iloc[9441:9460][::-1].cumsum()[::-1]\n",
    "df.plot(ax=axs, x='day',y='s', label='Bahrain',)\n",
    "df.plot(ax=axs, x='day',y='s2', label='South_Africa')\n",
    "df.plot(ax=axs, x='day',y='s3', label='Indonesia')\n",
    "df.plot(ax=axs, x='day',y='s4', label='Croatia')\n",
    "df.plot(ax=axs, x='day',y='s5', label='Philippines')\n",
    "df.plot(ax=axs, x='day',y='s6', label='New_Zealand')\n",
    "df.plot(ax=axs, x='day',y='s7', label='Iraq')\n",
    "df.plot(ax=axs, x='day',y='s8', label='Estonia')\n",
    "df.plot(ax=axs, x='day',y='s9', label='Iceland')\n",
    "df.plot(ax=axs, x='day',y='s10', label='Thailand')\n",
    "fig.suptitle('The Number of Infected Patients')\n",
    "plt.xlabel('day in March')\n",
    "plt.ylabel('cases')\n",
    "plt.xlim((0,31))\n",
    "plt.ylim((0,1300))\n",
    "plt.show()"
   ]
  },
  {
   "cell_type": "code",
   "execution_count": 250,
   "metadata": {},
   "outputs": [
    {
     "data": {
      "image/png": "[encoded data removed]",
      "text/plain": [
       "<Figure size 432x288 with 2 Axes>"
      ]
     },
     "metadata": {
      "needs_background": "light"
     },
     "output_type": "display_data"
    }
   ],
   "source": [
    "fig, axs = plt.subplots()\n",
    "\n",
    "c1 = df.loc[df['countriesAndTerritories'] == 'Bahrain', 'cases'].sum()\n",
    "d1 = df.loc[df['countriesAndTerritories'] == 'Bahrain', 'deaths'].sum()\n",
    "a1 = (d1 / c1 * 100)\n",
    "b1 = (c1 /  1569439 * 100)\n",
    "\n",
    "c2 = df.loc[df['countriesAndTerritories'] == 'Algeria', 'cases'].sum()\n",
    "d2 = df.loc[df['countriesAndTerritories'] == 'Algeria', 'deaths'].sum()\n",
    "a2 = (d2 / c2 * 100)\n",
    "b2 = (c2 /  42228429 * 100)\n",
    "\n",
    "c3 = df.loc[df['countriesAndTerritories'] == 'Albania', 'cases'].sum()\n",
    "d3 = df.loc[df['countriesAndTerritories'] == 'Albania', 'deaths'].sum()\n",
    "a3 = (d3 / c3 * 100)\n",
    "b3 = (c3 /  2866376 * 100)\n",
    "\n",
    "\n",
    "c4 = df.loc[df['countriesAndTerritories'] == 'Croatia', 'cases'].sum()\n",
    "d4 = df.loc[df['countriesAndTerritories'] == 'Croatia', 'deaths'].sum()\n",
    "a4 = (d4 / c4 * 100)\n",
    "b4 = (c4 /  4089400 * 100)\n",
    "\n",
    "c5 = df.loc[df['countriesAndTerritories'] == 'Democratic_Republic_of_the_Congo', 'cases'].sum()\n",
    "d5 = df.loc[df['countriesAndTerritories'] == 'Democratic_Republic_of_the_Congo', 'deaths'].sum()\n",
    "a5 = (d5 / c5 * 100)\n",
    "b5 = (c5 /  84068091 * 100)\n",
    "\n",
    "c6 = df.loc[df['countriesAndTerritories'] == 'Kuwait', 'cases'].sum()\n",
    "d6 = df.loc[df['countriesAndTerritories'] == 'Kuwait', 'deaths'].sum()\n",
    "a6 = (d6 / c6 * 100)\n",
    "b6 = (c6 /  4137309 * 100)\n",
    "\n",
    "\n",
    "c7 = df.loc[df['countriesAndTerritories'] == 'Iraq', 'cases'].sum()\n",
    "d7 = df.loc[df['countriesAndTerritories'] == 'Iraq', 'deaths'].sum()\n",
    "a7 = (d7 / c7 * 100)\n",
    "b7 = (c7 /  38433600 * 100)\n",
    "\n",
    "c8 = df.loc[df['countriesAndTerritories'] == 'Estonia', 'cases'].sum()\n",
    "d8 = df.loc[df['countriesAndTerritories'] == 'Estonia', 'deaths'].sum()\n",
    "a8 = (d8 / c8 * 100)\n",
    "b8 = (c8 /  1320884 * 100)\n",
    "\n",
    "c9 = df.loc[df['countriesAndTerritories'] == 'Iceland', 'cases'].sum()\n",
    "d9 = df.loc[df['countriesAndTerritories'] == 'Iceland', 'deaths'].sum()\n",
    "a9 = (d9 / c9 * 100)\n",
    "b9 = (c9 /  353574 * 100)\n",
    "\n",
    "c10 = df.loc[df['countriesAndTerritories'] == 'Thailand', 'cases'].sum()\n",
    "d10 = df.loc[df['countriesAndTerritories'] == 'Thailand', 'deaths'].sum()\n",
    "a10 = (d10 / c10 * 100)\n",
    "b10 = (c10 /  69428524 * 100)\n",
    "\n",
    "plt.scatter(b1, a1, s=1569439/100000, alpha=0.4,)\n",
    "plt.scatter(b2, a2, s=42228429/100000, alpha=0.4)\n",
    "plt.scatter(b3, a3, s=2866376/100000, alpha=0.4)\n",
    "plt.scatter(b4, a4, s=4089400/100000, alpha=0.4)\n",
    "plt.scatter(b5, a5, s=84068091/100000, alpha=0.4)\n",
    "plt.scatter(b6, a6, s=4137309/100000, alpha=0.4)\n",
    "plt.scatter(b7, a7, s=38433600/100000, alpha=0.4)\n",
    "plt.scatter(b8, a8, s=1320884/100000, alpha=0.4)\n",
    "plt.scatter(b9, a9, s=353574/100000, alpha=0.4)\n",
    "plt.scatter(b10, a10, s=69428524/100000, alpha=0.4)\n",
    "plt.title('The Ratio of %deaths/cases and %cases/population')\n",
    "plt.ylabel('%deaths/cases')\n",
    "plt.xlabel('%cases/population')\n",
    "plt.xlim((-0.1,0.5))\n",
    "plt.ylim((-1,17))\n",
    "plt.colorbar();"
   ]
  },
  {
   "cell_type": "code",
   "execution_count": null,
   "metadata": {},
   "outputs": [],
   "source": []
  },
  {
   "cell_type": "code",
   "execution_count": null,
   "metadata": {},
   "outputs": [],
   "source": []
  }
 ],
 "metadata": {
  "kernelspec": {
   "display_name": "Python 3",
   "language": "python",
   "name": "python3"
  },
  "language_info": {
   "codemirror_mode": {
    "name": "ipython",
    "version": 3
   },
   "file_extension": ".py",
   "mimetype": "text/x-python",
   "name": "python",
   "nbconvert_exporter": "python",
   "pygments_lexer": "ipython3",
   "version": "3.7.3"
  }
 },
 "nbformat": 4,
 "nbformat_minor": 4
}
